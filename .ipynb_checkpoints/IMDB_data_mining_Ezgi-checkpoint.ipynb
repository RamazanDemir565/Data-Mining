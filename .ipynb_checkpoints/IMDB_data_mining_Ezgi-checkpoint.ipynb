{
 "cells": [
  {
   "cell_type": "code",
   "execution_count": 1,
   "metadata": {
    "collapsed": false
   },
   "outputs": [
    {
     "data": {
      "text/plain": [
       "5044"
      ]
     },
     "execution_count": 1,
     "metadata": {},
     "output_type": "execute_result"
    }
   ],
   "source": [
    "# Analyse van +5000 IMDB geregistreerde films voor data mining\n",
    "\n",
    "# dataset gedownload van https://www.kaggle.com/deepmatrix/imdb-5000-movie-dataset\n",
    "# 5043 films met elk 26 variabelen :\n",
    "# \"movie_title\" \"color\" \"num_critic_for_reviews\" \"movie_facebook_likes\" \"duration\" \"director_name\" \"director_facebook_likes\" \n",
    "# \"actor_3_name\" \"actor_3_facebook_likes\" \"actor_2_name\" \"actor_2_facebook_likes\" \"actor_1_name\" \"actor_1_facebook_likes\" \n",
    "# \"gross\" \"genres\" \"num_voted_users\" \"cast_total_facebook_likes\" \"facenumber_in_poster\" \"plot_keywords\" \"movie_imdb_link\" \n",
    "# \"num_user_for_reviews\" \"language\" \"country\" \"content_rating\" \"budget\" \"title_year\" \"imdb_score\" \"aspect_ratio\"\n",
    "\n",
    "from pyspark.sql import SQLContext\n",
    "from pyspark.sql.types import *\n",
    "from collections import Counter\n",
    "import matplotlib.pyplot as plt\n",
    "\n",
    "raw_movie_data = sc.textFile('./movie_metadata.csv')\n",
    "raw_movie_data.count()"
   ]
  },
  {
   "cell_type": "code",
   "execution_count": 2,
   "metadata": {
    "collapsed": false
   },
   "outputs": [
    {
     "data": {
      "text/plain": [
       "[u'color,director_name,num_critic_for_reviews,duration,director_facebook_likes,actor_3_facebook_likes,actor_2_name,actor_1_facebook_likes,gross,genres,actor_1_name,movie_title,num_voted_users,cast_total_facebook_likes,actor_3_name,facenumber_in_poster,plot_keywords,movie_imdb_link,num_user_for_reviews,language,country,content_rating,budget,title_year,actor_2_facebook_likes,imdb_score,aspect_ratio,movie_facebook_likes',\n",
       " u'Color,James Cameron,723,178,0,855,Joel David Moore,1000,760505847,Action|Adventure|Fantasy|Sci-Fi,CCH Pounder,Avatar\\xa0,886204,4834,Wes Studi,0,avatar|future|marine|native|paraplegic,http://www.imdb.com/title/tt0499549/?ref_=fn_tt_tt_1,3054,English,USA,PG-13,237000000,2009,936,7.9,1.78,33000',\n",
       " u\"Color,Gore Verbinski,302,169,563,1000,Orlando Bloom,40000,309404152,Action|Adventure|Fantasy,Johnny Depp,Pirates of the Caribbean: At World's End\\xa0,471220,48350,Jack Davenport,0,goddess|marriage ceremony|marriage proposal|pirate|singapore,http://www.imdb.com/title/tt0449088/?ref_=fn_tt_tt_1,1238,English,USA,PG-13,300000000,2007,5000,7.1,2.35,0\"]"
      ]
     },
     "execution_count": 2,
     "metadata": {},
     "output_type": "execute_result"
    }
   ],
   "source": [
    "raw_movie_data.take(3)"
   ]
  },
  {
   "cell_type": "code",
   "execution_count": 3,
   "metadata": {
    "collapsed": false
   },
   "outputs": [
    {
     "data": {
      "text/plain": [
       "[u'Color,James Cameron,723,178,0,855,Joel David Moore,1000,760505847,Action|Adventure|Fantasy|Sci-Fi,CCH Pounder,Avatar\\xa0,886204,4834,Wes Studi,0,avatar|future|marine|native|paraplegic,http://www.imdb.com/title/tt0499549/?ref_=fn_tt_tt_1,3054,English,USA,PG-13,237000000,2009,936,7.9,1.78,33000',\n",
       " u\"Color,Gore Verbinski,302,169,563,1000,Orlando Bloom,40000,309404152,Action|Adventure|Fantasy,Johnny Depp,Pirates of the Caribbean: At World's End\\xa0,471220,48350,Jack Davenport,0,goddess|marriage ceremony|marriage proposal|pirate|singapore,http://www.imdb.com/title/tt0449088/?ref_=fn_tt_tt_1,1238,English,USA,PG-13,300000000,2007,5000,7.1,2.35,0\"]"
      ]
     },
     "execution_count": 3,
     "metadata": {},
     "output_type": "execute_result"
    }
   ],
   "source": [
    "header = raw_movie_data.first() #extract header\n",
    "raw_movie_data = raw_movie_data.filter(lambda x: x != header)\n",
    "raw_movie_data.take(2)"
   ]
  },
  {
   "cell_type": "code",
   "execution_count": 4,
   "metadata": {
    "collapsed": false
   },
   "outputs": [
    {
     "data": {
      "text/plain": [
       "[[u'Action', u'Adventure', u'Fantasy', u'Sci-Fi'],\n",
       " [u'Action', u'Adventure', u'Fantasy'],\n",
       " [u'Action', u'Adventure', u'Thriller'],\n",
       " [u'Action', u'Thriller'],\n",
       " [u'Documentary']]"
      ]
     },
     "execution_count": 4,
     "metadata": {},
     "output_type": "execute_result"
    }
   ],
   "source": [
    "movie_data = raw_movie_data.map(lambda x: x.split(\",\"))\n",
    "genre_data = movie_data.map(lambda x: x[9])\n",
    "genre_data = genre_data.map(lambda x: x.split('|'))\n",
    "genre_data.take(5)\n",
    "#movie_data.sortBy(lambda x: x[22]).take(5)0"
   ]
  },
  {
   "cell_type": "code",
   "execution_count": 5,
   "metadata": {
    "collapsed": false
   },
   "outputs": [
    {
     "name": "stdout",
     "output_type": "stream",
     "text": [
      "Counter({u'Drama': 2594, u'Comedy': 1872, u'Thriller': 1411, u'Action': 1153, u'Romance': 1107, u'Adventure': 923, u'Crime': 889, u'Sci-Fi': 616, u'Fantasy': 610, u'Horror': 565, u'Family': 546, u'Mystery': 500, u'Biography': 293, u'Animation': 242, u'Music': 214, u'War': 213, u'History': 207, u'Sport': 182, u'Musical': 132, u'Documentary': 121, u'Western': 97, u'Film-Noir': 6, u'Short': 5, u'News': 3, u'Reality-TV': 2, u'Game-Show': 1})\n"
     ]
    }
   ],
   "source": [
    "counter_genres_json = genre_data.map(Counter).reduce(lambda x, y: x + y)\n",
    "print(counter_genres_json)"
   ]
  },
  {
   "cell_type": "code",
   "execution_count": 6,
   "metadata": {
    "collapsed": false
   },
   "outputs": [
    {
     "name": "stdout",
     "output_type": "stream",
     "text": [
      "['Drama', 'Comedy', 'Thriller', 'Action', 'Romance', 'Adventure', 'Crime', 'Sci-Fi', 'Fantasy', 'Horror', 'Family', 'Mystery', 'Biography', 'Animation', 'Music', 'War', 'History', 'Sport', 'Musical', 'Documentary', 'Western', 'Film-Noir', 'Short', 'News', 'Reality-TV', 'Game-Show']\n"
     ]
    }
   ],
   "source": [
    "c = counter_genres_json.most_common()\n",
    "genres = []\n",
    "g_amount = []\n",
    "for a, b in c:\n",
    "    genres.append(str(a))\n",
    "    g_amount.append(b)\n",
    "\n",
    "print(genres)"
   ]
  },
  {
   "cell_type": "code",
   "execution_count": 7,
   "metadata": {
    "collapsed": false
   },
   "outputs": [
    {
     "name": "stdout",
     "output_type": "stream",
     "text": [
      "[2594, 1872, 1411, 1153, 1107, 923, 889, 616, 610, 565, 546, 500, 293, 242, 214, 213, 207, 182, 132, 121, 97, 6, 5, 3, 2, 1]\n"
     ]
    }
   ],
   "source": [
    "print(g_amount)"
   ]
  },
  {
   "cell_type": "code",
   "execution_count": 8,
   "metadata": {
    "collapsed": false
   },
   "outputs": [
    {
     "name": "stdout",
     "output_type": "stream",
     "text": [
      "[17.884721456150025, 12.906784335355765, 9.72835079977937, 7.949531163816878, 7.632377275234418, 6.363761720904577, 6.129343629343629, 4.247104247104247, 4.205736348593492, 3.895477109762824, 3.7644787644787647, 3.4473248758963044, 2.0201323772752344, 1.6685052399338114, 1.4754550468836183, 1.4685603971318257, 1.42719249862107, 1.2548262548262548, 0.9100937672366244, 0.8342526199669057, 0.6687810259238831, 0.04136789851075565, 0.03447324875896304, 0.020683949255377827, 0.013789299503585218, 0.006894649751792609]\n"
     ]
    }
   ],
   "source": [
    "g_sum = sum(g_amount)\n",
    "for i, a in enumerate(g_amount):\n",
    "    a = float(a) / float(g_sum)\n",
    "    g_amount[i] = a * 100\n",
    "    \n",
    "print(g_amount)"
   ]
  },
  {
   "cell_type": "code",
   "execution_count": 12,
   "metadata": {
    "collapsed": false
   },
   "outputs": [],
   "source": [
    "fig = plt.figure(figsize=(15, 7))\n",
    "fig.suptitle('% occurence of genres in top 5000', fontsize=14, fontweight='bold')\n",
    "ax1 = fig.add_subplot(121)\n",
    "ax1.pie(g_amount,explode=None,labels=genres,autopct='%1.2f%%',shadow=True, startangle=900)\n",
    "\n",
    "plt.show()"
   ]
  },
  {
   "cell_type": "code",
   "execution_count": null,
   "metadata": {
    "collapsed": false
   },
   "outputs": [],
   "source": [
    "director_data = movie_data.map(lambda x: x[1])\n",
    "director_data.take(5)\n",
    "counter_director_data = director_data.map(Counter).reduce(lambda x, y: x + y)\n",
    "print(counter_director_data)"
   ]
  },
  {
   "cell_type": "code",
   "execution_count": null,
   "metadata": {
    "collapsed": false
   },
   "outputs": [],
   "source": [
    "#csv_data = movie_data.map(lambda x: x.split(\",\"))\n",
    "#key_value_data = csv_data.map(lambda x: (x[11], x[8])) # x[11] = movie_title 8 = gross, 21 = rating, 22 = budget, 9 = genre\n",
    "#key_value_data.take(5)"
   ]
  },
  {
   "cell_type": "code",
   "execution_count": null,
   "metadata": {
    "collapsed": false
   },
   "outputs": [],
   "source": [
    "#lambda x: Christian Bale in x"
   ]
  },
  {
   "cell_type": "code",
   "execution_count": null,
   "metadata": {
    "collapsed": true
   },
   "outputs": [],
   "source": [
    "for tag in sorted(movie_data, key=duration_means_by_type.get, reverse=True):\n",
    "    print tag, duration_means_by_type[tag]"
   ]
  }
 ],
 "metadata": {
  "anaconda-cloud": {},
  "kernelspec": {
   "display_name": "Python [Root]",
   "language": "python",
   "name": "Python [Root]"
  },
  "language_info": {
   "codemirror_mode": {
    "name": "ipython",
    "version": 2
   },
   "file_extension": ".py",
   "mimetype": "text/x-python",
   "name": "python",
   "nbconvert_exporter": "python",
   "pygments_lexer": "ipython2",
   "version": "2.7.12"
  }
 },
 "nbformat": 4,
 "nbformat_minor": 0
}
