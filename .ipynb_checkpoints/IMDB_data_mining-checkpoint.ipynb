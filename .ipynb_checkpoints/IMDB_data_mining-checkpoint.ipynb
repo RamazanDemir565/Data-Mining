{
 "cells": [
  {
   "cell_type": "code",
   "execution_count": 2,
   "metadata": {
    "collapsed": false
   },
   "outputs": [
    {
     "name": "stdout",
     "output_type": "stream",
     "text": [
      "5044\n"
     ]
    }
   ],
   "source": [
    "# Analyse van +5000 IMDB geregistreerde films voor data mining\n",
    "\n",
    "# dataset gedownload van https://www.kaggle.com/deepmatrix/imdb-5000-movie-dataset\n",
    "# 5043 films met elk 26 variabelen :\n",
    "# \"movie_title\" \"color\" \"num_critic_for_reviews\" \"movie_facebook_likes\" \"duration\" \"director_name\" \"director_facebook_likes\" \n",
    "# \"actor_3_name\" \"actor_3_facebook_likes\" \"actor_2_name\" \"actor_2_facebook_likes\" \"actor_1_name\" \"actor_1_facebook_likes\" \n",
    "# \"gross\" \"genres\" \"num_voted_users\" \"cast_total_facebook_likes\" \"facenumber_in_poster\" \"plot_keywords\" \"movie_imdb_link\" \n",
    "# \"num_user_for_reviews\" \"language\" \"country\" \"content_rating\" \"budget\" \"title_year\" \"imdb_score\" \"aspect_ratio\"\n",
    "# niet correct meer ! ^^^^^^^^^\n",
    "\n",
    "from pyspark.sql import SQLContext\n",
    "from pyspark.sql.types import *\n",
    "from collections import Counter\n",
    "%matplotlib inline\n",
    "import matplotlib as mpl\n",
    "import matplotlib.pyplot as plt\n",
    "import numpy as np\n",
    "import urllib as f\n",
    "\n",
    "\n",
    "raw_movie_data = sc.textFile('./movie_metadata.csv')\n",
    "movie_count = raw_movie_data.count()\n",
    "print movie_count"
   ]
  },
  {
   "cell_type": "code",
   "execution_count": 2,
   "metadata": {
    "collapsed": false
   },
   "outputs": [
    {
     "name": "stdout",
     "output_type": "stream",
     "text": [
      "[u'color', u'director_name', u'num_critic_for_reviews', u'duration', u'director_facebook_likes', u'actor_3_facebook_likes', u'actor_2_name', u'actor_1_facebook_likes', u'gross', u'genres', u'actor_1_name', u'movie_title', u'num_voted_users', u'cast_total_facebook_likes', u'actor_3_name', u'facenumber_in_poster', u'plot_keywords', u'movie_imdb_link', u'num_user_for_reviews', u'language', u'country', u'content_rating', u'budget', u'title_year', u'actor_2_facebook_likes', u'imdb_score', u'aspect_ratio', u'movie_facebook_likes']\n"
     ]
    }
   ],
   "source": [
    "header = raw_movie_data.first() #extract header\n",
    "raw_movie_data = raw_movie_data.filter(lambda x: x != header)\n",
    "keywords = header.split(',')\n",
    "print keywords"
   ]
  },
  {
   "cell_type": "code",
   "execution_count": 131,
   "metadata": {
    "collapsed": false
   },
   "outputs": [],
   "source": [
    "movie_data = raw_movie_data.map(lambda x: x.split(\",\"))\n",
    "tags_data = movie_data.map(lambda x: x[16])\n",
    "tags_data = tags_data.map(lambda x: x.split('|'))\n",
    "counter_tags_json = tags_data.map(Counter).reduce(lambda x, y: x + y)\n",
    "\n",
    "print(counter_tags_json)"
   ]
  },
  {
   "cell_type": "code",
   "execution_count": 132,
   "metadata": {
    "collapsed": false
   },
   "outputs": [],
   "source": [
    "c = counter_tags_json.most_common()\n",
    "plot_keywords = []\n",
    "tags_amount = []\n",
    "\n",
    "for a, b in c:\n",
    "    plot_keywords.append(str(a))\n",
    "    tags_amount.append(b)\n",
    "\n",
    "print(plot_keywords)"
   ]
  },
  {
   "cell_type": "code",
   "execution_count": 134,
   "metadata": {
    "collapsed": false
   },
   "outputs": [
    {
     "data": {
      "image/png": "[encoded data removed]",
      "text/plain": [
       "<matplotlib.figure.Figure at 0xb05d470>"
      ]
     },
     "metadata": {},
     "output_type": "display_data"
    }
   ],
   "source": [
    "y = tags_amount[:3]\n",
    "x = np.arange(3)\n",
    "labels = plot_keywords[:3]\n",
    "\n",
    "fig = plt.figure(figsize=(10, 10))\n",
    "plt.title(\"top 3 meest voorkomende tags\", fontweight=\"bold\")\n",
    "plt.bar(x,y,width=0.5,color=\"green\",align=\"center\")\n",
    "plt.xticks(x , labels, rotation=50, fontsize=10)\n",
    "plt.ylabel(\"Aantal (*10)\", fontweight=\"bold\")\n",
    "plt.xlabel(\"Tags\", fontweight=\"bold\")\n",
    "#ticks = plt.setp(ax.get_xticklabels(),rotation=90)\n",
    "plt.show()"
   ]
  },
  {
   "cell_type": "code",
   "execution_count": 81,
   "metadata": {
    "collapsed": false
   },
   "outputs": [],
   "source": [
    "movie_data = raw_movie_data.map(lambda x: x.split(\",\"))\n",
    "director_data = movie_data.map(lambda x: x[1])\n",
    "director_data = director_data.map(lambda x: x.split(\";\"))\n",
    "director_data = director_data.filter(lambda x: len(x)>0)\n",
    "counter_director_json = director_data.map(Counter).reduce(lambda x, y: x + y)\n",
    "\n",
    "print(counter_director_json)"
   ]
  },
  {
   "cell_type": "code",
   "execution_count": 58,
   "metadata": {
    "collapsed": false
   },
   "outputs": [],
   "source": [
    "c = counter_director_json.most_common()\n",
    "director_name = []\n",
    "director_amount = []\n",
    "\n",
    "for a, b in c:\n",
    "    director_name.append(str(a).encode('utf-8').strip())\n",
    "    director_amount.append(b)\n",
    "\n",
    "print(director_name)"
   ]
  },
  {
   "cell_type": "code",
   "execution_count": 30,
   "metadata": {
    "collapsed": true
   },
   "outputs": [],
   "source": [
    "import sys\n",
    "reload(sys)\n",
    "sys.setdefaultencoding('utf8')"
   ]
  },
  {
   "cell_type": "code",
   "execution_count": 82,
   "metadata": {
    "collapsed": false
   },
   "outputs": [],
   "source": [
    "c = counter_director_json.most_common()\n",
    "director_name = []\n",
    "director_amount = []\n",
    "\n",
    "for a, b in c:\n",
    "    director_name.append(str(a))\n",
    "    director_amount.append(b)\n",
    "\n",
    "print(director_name)"
   ]
  },
  {
   "cell_type": "code",
   "execution_count": 129,
   "metadata": {
    "collapsed": false
   },
   "outputs": [
    {
     "data": {
      "image/png": "[encoded data removed]",
      "text/plain": [
       "<matplotlib.figure.Figure at 0xa4cfcc0>"
      ]
     },
     "metadata": {},
     "output_type": "display_data"
    }
   ],
   "source": [
    "y= director_amount[:8]\n",
    "x[1:8]= np.arange(7)\n",
    "labels = director_name[:8]\n",
    "\n",
    "fig = plt.figure(figsize=(10, 10))\n",
    "plt.title(\"top 7 meest voorkomende regisseurs\", fontweight=\"bold\")\n",
    "plt.bar(x,y,width=0.5,color=\"green\",align=\"center\")\n",
    "plt.xticks(x[0:8], labels, rotation=90, fontsize=10)\n",
    "plt.ylabel(\"Aantal\", fontweight=\"bold\")\n",
    "plt.xlabel(\"Reggiseurs\", fontweight=\"bold\")\n",
    "#ticks = plt.setp(ax.get_xticklabels(),rotation=90)\n",
    "plt.show()"
   ]
  },
  {
   "cell_type": "code",
   "execution_count": 135,
   "metadata": {
    "collapsed": false
   },
   "outputs": [
    {
     "ename": "ImportError",
     "evalue": "No module named query_integral_image",
     "output_type": "error",
     "traceback": [
      "\u001b[1;31m---------------------------------------------------------------------------\u001b[0m",
      "\u001b[1;31mImportError\u001b[0m                               Traceback (most recent call last)",
      "\u001b[1;32m<ipython-input-135-0eb4ee01f927>\u001b[0m in \u001b[0;36m<module>\u001b[1;34m()\u001b[0m\n\u001b[0;32m      5\u001b[0m \u001b[1;32mimport\u001b[0m \u001b[0mrandom\u001b[0m\u001b[1;33m\u001b[0m\u001b[0m\n\u001b[0;32m      6\u001b[0m \u001b[1;33m\u001b[0m\u001b[0m\n\u001b[1;32m----> 7\u001b[1;33m \u001b[1;32mfrom\u001b[0m \u001b[0mwordcloud\u001b[0m \u001b[1;32mimport\u001b[0m \u001b[0mWordCloud\u001b[0m\u001b[1;33m,\u001b[0m \u001b[0mSTOPWORDS\u001b[0m\u001b[1;33m\u001b[0m\u001b[0m\n\u001b[0m\u001b[0;32m      8\u001b[0m \u001b[1;33m\u001b[0m\u001b[0m\n\u001b[0;32m      9\u001b[0m \u001b[1;33m\u001b[0m\u001b[0m\n",
      "\u001b[1;32mC:\\Users\\Ramazan\\Anaconda2\\lib\\wordcloud\\__init__.py\u001b[0m in \u001b[0;36m<module>\u001b[1;34m()\u001b[0m\n\u001b[1;32m----> 1\u001b[1;33m \u001b[1;32mfrom\u001b[0m \u001b[1;33m.\u001b[0m\u001b[0mwordcloud\u001b[0m \u001b[1;32mimport\u001b[0m \u001b[0mWordCloud\u001b[0m\u001b[1;33m,\u001b[0m \u001b[0mSTOPWORDS\u001b[0m\u001b[1;33m,\u001b[0m \u001b[0mrandom_color_func\u001b[0m\u001b[1;33m,\u001b[0m \u001b[0mget_single_color_func\u001b[0m\u001b[1;33m\u001b[0m\u001b[0m\n\u001b[0m\u001b[0;32m      2\u001b[0m \u001b[1;32mfrom\u001b[0m \u001b[1;33m.\u001b[0m\u001b[0mcolor_from_image\u001b[0m \u001b[1;32mimport\u001b[0m \u001b[0mImageColorGenerator\u001b[0m\u001b[1;33m\u001b[0m\u001b[0m\n\u001b[0;32m      3\u001b[0m \u001b[1;33m\u001b[0m\u001b[0m\n\u001b[0;32m      4\u001b[0m \u001b[0m__all__\u001b[0m \u001b[1;33m=\u001b[0m \u001b[1;33m[\u001b[0m\u001b[1;34m'WordCloud'\u001b[0m\u001b[1;33m,\u001b[0m \u001b[1;34m'STOPWORDS'\u001b[0m\u001b[1;33m,\u001b[0m \u001b[1;34m'random_color_func'\u001b[0m\u001b[1;33m,\u001b[0m \u001b[1;34m'get_single_color_func'\u001b[0m\u001b[1;33m,\u001b[0m \u001b[1;34m'ImageColorGenerator'\u001b[0m\u001b[1;33m]\u001b[0m\u001b[1;33m\u001b[0m\u001b[0m\n",
      "\u001b[1;32mC:\\Users\\Ramazan\\Anaconda2\\lib\\wordcloud\\wordcloud.py\u001b[0m in \u001b[0;36m<module>\u001b[1;34m()\u001b[0m\n\u001b[0;32m     22\u001b[0m \u001b[1;32mfrom\u001b[0m \u001b[0mPIL\u001b[0m \u001b[1;32mimport\u001b[0m \u001b[0mImageFont\u001b[0m\u001b[1;33m\u001b[0m\u001b[0m\n\u001b[0;32m     23\u001b[0m \u001b[1;33m\u001b[0m\u001b[0m\n\u001b[1;32m---> 24\u001b[1;33m \u001b[1;32mfrom\u001b[0m \u001b[1;33m.\u001b[0m\u001b[0mquery_integral_image\u001b[0m \u001b[1;32mimport\u001b[0m \u001b[0mquery_integral_image\u001b[0m\u001b[1;33m\u001b[0m\u001b[0m\n\u001b[0m\u001b[0;32m     25\u001b[0m \u001b[1;32mfrom\u001b[0m \u001b[1;33m.\u001b[0m\u001b[0mtokenization\u001b[0m \u001b[1;32mimport\u001b[0m \u001b[0munigrams_and_bigrams\u001b[0m\u001b[1;33m,\u001b[0m \u001b[0mprocess_tokens\u001b[0m\u001b[1;33m\u001b[0m\u001b[0m\n\u001b[0;32m     26\u001b[0m \u001b[1;33m\u001b[0m\u001b[0m\n",
      "\u001b[1;31mImportError\u001b[0m: No module named query_integral_image"
     ]
    }
   ],
   "source": [
    "import numpy as np\n",
    "from PIL import Image\n",
    "from os import path\n",
    "import matplotlib.pyplot as plt\n",
    "import random\n",
    "\n",
    "from wordcloud import WordCloud, STOPWORDS\n",
    "\n",
    "\n",
    "def grey_color_func(word, font_size, position, orientation, random_state=None, **kwargs):\n",
    "    return \"hsl(0, 0%%, %d%%)\" % random.randint(60, 100)\n",
    "\n",
    "d = path.dirname(__file__)\n",
    "\n",
    "# read the mask image\n",
    "# taken from\n",
    "# http://www.stencilry.org/stencils/movies/star%20wars/storm-trooper.gif\n",
    "mask = np.array(Image.open(path.join(d, \"stormtrooper_mask.png\")))\n",
    "\n",
    "# movie script of \"a new hope\"\n",
    "# http://www.imsdb.com/scripts/Star-Wars-A-New-Hope.html\n",
    "# May the lawyers deem this fair use.\n",
    "text = open(\"a_new_hope.txt\").read()\n",
    "\n",
    "# preprocessing the text a little bit\n",
    "text = text.replace(\"HAN\", \"Han\")\n",
    "text = text.replace(\"LUKE'S\", \"Luke\")\n",
    "\n",
    "# adding movie script specific stopwords\n",
    "stopwords = set(STOPWORDS)\n",
    "stopwords.add(\"int\")\n",
    "stopwords.add(\"ext\")\n",
    "\n",
    "wc = WordCloud(max_words=1000, mask=mask, stopwords=stopwords, margin=10,\n",
    "               random_state=1).generate(text)\n",
    "# store default colored image\n",
    "default_colors = wc.to_array()\n",
    "plt.title(\"Custom colors\")\n",
    "plt.imshow(wc.recolor(color_func=grey_color_func, random_state=3))\n",
    "wc.to_file(\"a_new_hope.png\")\n",
    "plt.axis(\"off\")\n",
    "plt.figure()\n",
    "plt.title(\"Default colors\")\n",
    "plt.imshow(default_colors)\n",
    "plt.axis(\"off\")\n",
    "plt.show()\n"
   ]
  },
  {
   "cell_type": "code",
   "execution_count": null,
   "metadata": {
    "collapsed": true
   },
   "outputs": [],
   "source": []
  }
 ],
 "metadata": {
  "anaconda-cloud": {},
  "kernelspec": {
   "display_name": "Python [Root]",
   "language": "python",
   "name": "Python [Root]"
  },
  "language_info": {
   "codemirror_mode": {
    "name": "ipython",
    "version": 2
   },
   "file_extension": ".py",
   "mimetype": "text/x-python",
   "name": "python",
   "nbconvert_exporter": "python",
   "pygments_lexer": "ipython2",
   "version": "2.7.12"
  }
 },
 "nbformat": 4,
 "nbformat_minor": 0
}
