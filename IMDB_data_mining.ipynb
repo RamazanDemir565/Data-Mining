{
 "cells": [
  {
   "cell_type": "code",
   "execution_count": 1,
   "metadata": {
    "collapsed": false
   },
   "outputs": [],
   "source": [
    "# Analyse van +5000 IMDB geregistreerde films voor data mining\n",
    "\n",
    "# dataset gedownload van https://www.kaggle.com/deepmatrix/imdb-5000-movie-dataset\n",
    "# 5043 films met elk 26 variabelen :\n",
    "# \"movie_title\" \"color\" \"num_critic_for_reviews\" \"movie_facebook_likes\" \"duration\" \"director_name\" \"director_facebook_likes\" \n",
    "# \"actor_3_name\" \"actor_3_facebook_likes\" \"actor_2_name\" \"actor_2_facebook_likes\" \"actor_1_name\" \"actor_1_facebook_likes\" \n",
    "# \"gross\" \"genres\" \"num_voted_users\" \"cast_total_facebook_likes\" \"facenumber_in_poster\" \"plot_keywords\" \"movie_imdb_link\" \n",
    "# \"num_user_for_reviews\" \"language\" \"country\" \"content_rating\" \"budget\" \"title_year\" \"imdb_score\" \"aspect_ratio\"\n",
    "\n",
    "from pyspark.sql import *\n",
    "from pandas import DataFrame, read_csv\n",
    "\n",
    "import matplotlib.pyplot as plt\n",
    "import pandas as pd\n",
    "\n",
    "# Always display all the columns\n",
    "pd.set_option('display.width', 5000) \n",
    "pd.set_option('display.max_columns', 60) \n",
    "\n",
    "movie_data = pd.read_csv('./movie_metadata.csv')"
   ]
  },
  {
   "cell_type": "code",
   "execution_count": 2,
   "metadata": {
    "collapsed": false
   },
   "outputs": [
    {
     "data": {
      "text/html": [
       "<div>\n",
       "<table border=\"1\" class=\"dataframe\">\n",
       "  <thead>\n",
       "    <tr style=\"text-align: right;\">\n",
       "      <th></th>\n",
       "      <th>movie_title</th>\n",
       "      <th>imdb_score</th>\n",
       "      <th>profit</th>\n",
       "      <th>roi</th>\n",
       "    </tr>\n",
       "  </thead>\n",
       "  <tbody>\n",
       "    <tr>\n",
       "      <th>0</th>\n",
       "      <td>Avatar</td>\n",
       "      <td>7.9</td>\n",
       "      <td>523505847.0</td>\n",
       "      <td>2.208885</td>\n",
       "    </tr>\n",
       "    <tr>\n",
       "      <th>1</th>\n",
       "      <td>Pirates of the Caribbean: At World's End</td>\n",
       "      <td>7.1</td>\n",
       "      <td>9404152.0</td>\n",
       "      <td>0.031347</td>\n",
       "    </tr>\n",
       "    <tr>\n",
       "      <th>2</th>\n",
       "      <td>Spectre</td>\n",
       "      <td>6.8</td>\n",
       "      <td>-44925825.0</td>\n",
       "      <td>-0.183371</td>\n",
       "    </tr>\n",
       "    <tr>\n",
       "      <th>3</th>\n",
       "      <td>The Dark Knight Rises</td>\n",
       "      <td>8.5</td>\n",
       "      <td>198130642.0</td>\n",
       "      <td>0.792523</td>\n",
       "    </tr>\n",
       "    <tr>\n",
       "      <th>4</th>\n",
       "      <td>Star Wars: Episode VII - The Force Awakens    ...</td>\n",
       "      <td>7.1</td>\n",
       "      <td>NaN</td>\n",
       "      <td>NaN</td>\n",
       "    </tr>\n",
       "    <tr>\n",
       "      <th>5</th>\n",
       "      <td>John Carter</td>\n",
       "      <td>6.6</td>\n",
       "      <td>-190641321.0</td>\n",
       "      <td>-0.722948</td>\n",
       "    </tr>\n",
       "    <tr>\n",
       "      <th>6</th>\n",
       "      <td>Spider-Man 3</td>\n",
       "      <td>6.2</td>\n",
       "      <td>78530303.0</td>\n",
       "      <td>0.304381</td>\n",
       "    </tr>\n",
       "    <tr>\n",
       "      <th>7</th>\n",
       "      <td>Tangled</td>\n",
       "      <td>7.8</td>\n",
       "      <td>-59192738.0</td>\n",
       "      <td>-0.227664</td>\n",
       "    </tr>\n",
       "    <tr>\n",
       "      <th>8</th>\n",
       "      <td>Avengers: Age of Ultron</td>\n",
       "      <td>7.5</td>\n",
       "      <td>208991599.0</td>\n",
       "      <td>0.835966</td>\n",
       "    </tr>\n",
       "    <tr>\n",
       "      <th>9</th>\n",
       "      <td>Harry Potter and the Half-Blood Prince</td>\n",
       "      <td>7.5</td>\n",
       "      <td>51956980.0</td>\n",
       "      <td>0.207828</td>\n",
       "    </tr>\n",
       "  </tbody>\n",
       "</table>\n",
       "</div>"
      ],
      "text/plain": [
       "                                         movie_title  imdb_score       profit       roi\n",
       "0                                            Avatar          7.9  523505847.0  2.208885\n",
       "1          Pirates of the Caribbean: At World's End          7.1    9404152.0  0.031347\n",
       "2                                           Spectre          6.8  -44925825.0 -0.183371\n",
       "3                             The Dark Knight Rises          8.5  198130642.0  0.792523\n",
       "4  Star Wars: Episode VII - The Force Awakens    ...         7.1          NaN       NaN\n",
       "5                                       John Carter          6.6 -190641321.0 -0.722948\n",
       "6                                      Spider-Man 3          6.2   78530303.0  0.304381\n",
       "7                                           Tangled          7.8  -59192738.0 -0.227664\n",
       "8                           Avengers: Age of Ultron          7.5  208991599.0  0.835966\n",
       "9            Harry Potter and the Half-Blood Prince          7.5   51956980.0  0.207828"
      ]
     },
     "execution_count": 2,
     "metadata": {},
     "output_type": "execute_result"
    }
   ],
   "source": [
    "# verwijder onnodige kolommen\n",
    "del movie_data['facenumber_in_poster']\n",
    "del movie_data['aspect_ratio']\n",
    "del movie_data['movie_imdb_link']\n",
    "del movie_data['plot_keywords']\n",
    "del movie_data['color']\n",
    "\n",
    "# voeg nieuwe kolommen toe voor winst en Return On Investment\n",
    "movie_data['profit'] = movie_data['gross'] - movie_data['budget']\n",
    "movie_data['roi'] = movie_data['profit'] / movie_data['budget']\n",
    "movie_d_roi = movie_data[['movie_title','imdb_score','profit','roi']]\n",
    "movie_d_roi.sort_values(by='roi',ascending=False)\n",
    "movie_d_roi.head(10)"
   ]
  },
  {
   "cell_type": "code",
   "execution_count": null,
   "metadata": {
    "collapsed": false
   },
   "outputs": [],
   "source": [
    "mov_top_20_budget = movie_data.top(20, key=lambda x:x[20])\n",
    "print(mov_top_20_budget)"
   ]
  },
  {
   "cell_type": "code",
   "execution_count": null,
   "metadata": {
    "collapsed": true
   },
   "outputs": [],
   "source": []
  }
 ],
 "metadata": {
  "anaconda-cloud": {},
  "kernelspec": {
   "display_name": "Python [Root]",
   "language": "python",
   "name": "Python [Root]"
  },
  "language_info": {
   "codemirror_mode": {
    "name": "ipython",
    "version": 2
   },
   "file_extension": ".py",
   "mimetype": "text/x-python",
   "name": "python",
   "nbconvert_exporter": "python",
   "pygments_lexer": "ipython2",
   "version": "2.7.12"
  }
 },
 "nbformat": 4,
 "nbformat_minor": 0
}
