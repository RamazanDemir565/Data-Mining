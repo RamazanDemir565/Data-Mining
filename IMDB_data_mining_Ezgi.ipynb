{
 "cells": [
  {
   "cell_type": "code",
   "execution_count": 1,
   "metadata": {
    "collapsed": false
   },
   "outputs": [
    {
     "name": "stdout",
     "output_type": "stream",
     "text": [
      "5044\n"
     ]
    }
   ],
   "source": [
    "# Analyse van +5000 IMDB geregistreerde films voor data mining\n",
    "\n",
    "# dataset gedownload van https://www.kaggle.com/deepmatrix/imdb-5000-movie-dataset\n",
    "# 5043 films met elk 26 variabelen :\n",
    "# \"movie_title\" \"color\" \"num_critic_for_reviews\" \"movie_facebook_likes\" \"duration\" \"director_name\" \"director_facebook_likes\" \n",
    "# \"actor_3_name\" \"actor_3_facebook_likes\" \"actor_2_name\" \"actor_2_facebook_likes\" \"actor_1_name\" \"actor_1_facebook_likes\" \n",
    "# \"gross\" \"genres\" \"num_voted_users\" \"cast_total_facebook_likes\" \"facenumber_in_poster\" \"plot_keywords\" \"movie_imdb_link\" \n",
    "# \"num_user_for_reviews\" \"language\" \"country\" \"content_rating\" \"budget\" \"title_year\" \"imdb_score\" \"aspect_ratio\"\n",
    "# niet correct meer ! ^^^^^^^^^\n",
    "\n",
    "from pyspark.sql import SQLContext\n",
    "from pyspark.sql.types import *\n",
    "from collections import Counter\n",
    "%matplotlib inline\n",
    "import matplotlib as mpl\n",
    "import matplotlib.pyplot as plt\n",
    "import numpy as np\n",
    "\n",
    "\n",
    "raw_movie_data = sc.textFile('./movie_metadata.csv')\n",
    "movie_count = raw_movie_data.count()\n",
    "print movie_count"
   ]
  },
  {
   "cell_type": "code",
   "execution_count": 2,
   "metadata": {
    "collapsed": false
   },
   "outputs": [
    {
     "name": "stdout",
     "output_type": "stream",
     "text": [
      "[u'color', u'director_name', u'num_critic_for_reviews', u'duration', u'director_facebook_likes', u'actor_3_facebook_likes', u'actor_2_name', u'actor_1_facebook_likes', u'gross', u'genres', u'actor_1_name', u'movie_title', u'num_voted_users', u'cast_total_facebook_likes', u'actor_3_name', u'facenumber_in_poster', u'plot_keywords', u'movie_imdb_link', u'num_user_for_reviews', u'language', u'country', u'content_rating', u'budget', u'title_year', u'actor_2_facebook_likes', u'imdb_score', u'aspect_ratio', u'movie_facebook_likes']\n"
     ]
    }
   ],
   "source": [
    "header = raw_movie_data.first() #extract header\n",
    "raw_movie_data = raw_movie_data.filter(lambda x: x != header)\n",
    "keywords = header.split(',')\n",
    "print keywords"
   ]
  },
  {
   "cell_type": "code",
   "execution_count": 3,
   "metadata": {
    "collapsed": false
   },
   "outputs": [
    {
     "name": "stdout",
     "output_type": "stream",
     "text": [
      "Counter({u'Drama': 2594, u'Comedy': 1872, u'Thriller': 1411, u'Action': 1153, u'Romance': 1107, u'Adventure': 923, u'Crime': 889, u'Sci-Fi': 616, u'Fantasy': 610, u'Horror': 565, u'Family': 546, u'Mystery': 500, u'Biography': 293, u'Animation': 242, u'Music': 214, u'War': 213, u'History': 207, u'Sport': 182, u'Musical': 132, u'Documentary': 121, u'Western': 97, u'Film-Noir': 6, u'Short': 5, u'News': 3, u'Reality-TV': 2, u'Game-Show': 1})\n"
     ]
    }
   ],
   "source": [
    "movie_data = raw_movie_data.map(lambda x: x.split(\",\"))\n",
    "genre_data = movie_data.map(lambda x: x[9])\n",
    "genre_data = genre_data.map(lambda x: x.split('|'))\n",
    "counter_genres_json = genre_data.map(Counter).reduce(lambda x, y: x + y)\n",
    "print(counter_genres_json)"
   ]
  },
  {
   "cell_type": "code",
   "execution_count": 4,
   "metadata": {
    "collapsed": false
   },
   "outputs": [
    {
     "name": "stdout",
     "output_type": "stream",
     "text": [
      "['Drama', 'Comedy', 'Thriller', 'Action', 'Romance', 'Adventure', 'Crime', 'Sci-Fi', 'Fantasy', 'Horror', 'Family', 'Mystery', 'Biography', 'Animation', 'Music', 'War', 'History', 'Sport', 'Musical', 'Documentary', 'Western', 'Film-Noir', 'Short', 'News', 'Reality-TV', 'Game-Show']\n"
     ]
    }
   ],
   "source": [
    "c = counter_genres_json.most_common()\n",
    "genres = []\n",
    "g_amount = []\n",
    "for a, b in c:\n",
    "    genres.append(str(a))\n",
    "    g_amount.append(b)\n",
    "\n",
    "print(genres)"
   ]
  },
  {
   "cell_type": "code",
   "execution_count": 5,
   "metadata": {
    "collapsed": false
   },
   "outputs": [
    {
     "name": "stdout",
     "output_type": "stream",
     "text": [
      "[2594, 1872, 1411, 1153, 1107, 923, 889, 616, 610, 565, 546, 500, 293, 242, 214, 213, 207, 182, 132, 121, 97, 6, 5, 3, 2, 1]\n"
     ]
    }
   ],
   "source": [
    "print(g_amount)"
   ]
  },
  {
   "cell_type": "code",
   "execution_count": 6,
   "metadata": {
    "collapsed": false
   },
   "outputs": [
    {
     "name": "stdout",
     "output_type": "stream",
     "text": [
      "[51.4274385408406, 37.11340206185567, 27.973830293417922, 22.858842188739096, 21.946867565424267, 18.298969072164947, 17.624900872323554, 12.212529738302933, 12.093576526566217, 11.201427438540842, 10.824742268041238, 9.912767644726408, 5.808881839809675, 4.797779540047582, 4.2426645519429025, 4.22283901665345, 4.103885804916732, 3.608247422680412, 2.6169706582077716, 2.398889770023791, 1.9230769230769231, 0.11895321173671689, 0.09912767644726407, 0.05947660586835844, 0.03965107057890563, 0.019825535289452814]\n"
     ]
    }
   ],
   "source": [
    "for i, a in enumerate(g_amount):\n",
    "    a = float(a) / float(movie_count)\n",
    "    g_amount[i] = a * 100\n",
    "    \n",
    "print(g_amount)"
   ]
  },
  {
   "cell_type": "code",
   "execution_count": 7,
   "metadata": {
    "collapsed": false
   },
   "outputs": [
    {
     "data": {
      "image/png": "[encoded data removed]",
      "text/plain": [
       "<matplotlib.figure.Figure at 0x73442e8>"
      ]
     },
     "metadata": {},
     "output_type": "display_data"
    }
   ],
   "source": [
    "#fig = plt.figure(figsize=(15, 7))\n",
    "#fig.suptitle('% occurence of genres in top 5000', fontsize=14, fontweight='bold')\n",
    "#ax1 = fig.add_subplot(121)\n",
    "#ax1.pie(g_amount[:10],explode=None,labels=genres,autopct='%1.2f%%',shadow=True, startangle=900)\n",
    "\n",
    "#plt.show()\n",
    "\n",
    "#pass\n",
    "y = g_amount[:8]\n",
    "x = np.arange(8)\n",
    "labels = genres[:8]\n",
    "\n",
    "fig = plt.figure(figsize=(15, 10))\n",
    "plt.title(\"top 8 voorkomen genres (%)\")\n",
    "plt.bar(x,y,width=0.5,color=\"blue\",align=\"center\")\n",
    "plt.xticks(x , labels, rotation=90, fontsize=10)\n",
    "plt.ylabel(\"Percentage films\")\n",
    "plt.xlabel(\"Genre\")\n",
    "#ticks = plt.setp(ax.get_xticklabels(),rotation=90)\n",
    "plt.show()\n",
    "\n",
    "pass"
   ]
  },
  {
   "cell_type": "code",
   "execution_count": 12,
   "metadata": {
    "collapsed": false
   },
   "outputs": [],
   "source": [
    "#imdb_genre = movie_data.sortBy(lambda x: x[25], ascending = False)\n",
    "#imdb_genre = imdb_genre.filter(lambda x: float(x[25]) <= 10.0)\n",
    "#imdb_genre = imdb_genre.map(lambda x: x[9])\n",
    "imdb_genre = movie_data.map(lambda x: float(x[25])).filter(lambda x: x[25] <= 10.0)\n",
    "\n",
    "#imdb_genre = imdb_genre.top(100, key=lambda x: x[25])"
   ]
  },
  {
   "cell_type": "code",
   "execution_count": 9,
   "metadata": {
    "collapsed": false
   },
   "outputs": [],
   "source": [
    "#director_data = movie_data.map(lambda x: x[1])\n",
    "#director_data.take(5)\n",
    "#counter_director_data = director_data.map(Counter).reduce(lambda x, y: x + y)\n",
    "#print(counter_director_data)"
   ]
  }
 ],
 "metadata": {
  "anaconda-cloud": {},
  "kernelspec": {
   "display_name": "Python [Root]",
   "language": "python",
   "name": "Python [Root]"
  },
  "language_info": {
   "codemirror_mode": {
    "name": "ipython",
    "version": 2
   },
   "file_extension": ".py",
   "mimetype": "text/x-python",
   "name": "python",
   "nbconvert_exporter": "python",
   "pygments_lexer": "ipython2",
   "version": "2.7.12"
  }
 },
 "nbformat": 4,
 "nbformat_minor": 0
}
